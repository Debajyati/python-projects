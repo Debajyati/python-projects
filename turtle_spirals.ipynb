{
 "cells": [
  {
   "cell_type": "code",
   "execution_count": 15,
   "metadata": {},
   "outputs": [],
   "source": [
    "from turtle import * \n",
    "from random import randint \n",
    "Screen().bgcolor('black') \n",
    "x = 1 \n",
    "speed(0) \n",
    "while x < 400: \n",
    "  \n",
    " r = randint(0,255) \n",
    " g = randint(0,255)  \n",
    " b = randint(0,255) \n",
    "  \n",
    " colormode(255)  \n",
    " pencolor(r,g,b) \n",
    " fd(50 + x) \n",
    " rt(90.991) \n",
    " x = x+1 \n",
    "  \n",
    "exitonclick() "
   ]
  },
  {
   "cell_type": "code",
   "execution_count": 1,
   "metadata": {},
   "outputs": [],
   "source": [
    "from turtle import *\n",
    "\n",
    "radius = 1 \n",
    "radius_inc = 1 # increment in radius\n",
    "angle_inc = 5 # increment in angle\n",
    "Screen().bgcolor('black')\n",
    "speed(0)\n",
    "\n",
    "while radius < 250:\n",
    "\n",
    " colormode(255)\n",
    " pencolor(255,0,0)\n",
    " circle(radius)\n",
    " penup()\n",
    " right(angle_inc)\n",
    " forward(radius_inc)\n",
    " pendown()\n",
    " radius += radius_inc\n",
    "\n",
    "hideturtle() # hiding the turtle\n",
    "exitonclick() # display the result and wait for user click on exit"
   ]
  }
 ],
 "metadata": {
  "kernelspec": {
   "display_name": "Python 3",
   "language": "python",
   "name": "python3"
  },
  "language_info": {
   "codemirror_mode": {
    "name": "ipython",
    "version": 3
   },
   "file_extension": ".py",
   "mimetype": "text/x-python",
   "name": "python",
   "nbconvert_exporter": "python",
   "pygments_lexer": "ipython3",
   "version": "3.9.12"
  }
 },
 "nbformat": 4,
 "nbformat_minor": 2
}
